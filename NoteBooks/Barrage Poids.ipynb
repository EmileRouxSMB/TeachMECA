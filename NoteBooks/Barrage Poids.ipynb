{
 "cells": [
  {
   "cell_type": "code",
   "execution_count": 3,
   "metadata": {},
   "outputs": [],
   "source": [
    "import numpy as np\n",
    "import sympy as sp\n",
    "sp.init_printing(use_latex = \"mathjax\")"
   ]
  },
  {
   "cell_type": "code",
   "execution_count": 62,
   "metadata": {},
   "outputs": [],
   "source": [
    "a,b,c,d,e,f= sp.symbols(\"a b c d e f\", real = True)\n",
    "rho_1, g= sp.symbols('rho_1, g', real = True)\n",
    "x,y = sp.symbols(\"x, y\", real = True)\n",
    "sigxx, sigyy, sigxy, sigzz = sp.symbols(\"sigma_xx sigma_yy sigma_xy sigma_zz\", real = True)"
   ]
  },
  {
   "cell_type": "code",
   "execution_count": 63,
   "metadata": {},
   "outputs": [],
   "source": [
    "sigxx = a*x+b*y\n",
    "sigyy = c*x+d*y\n",
    "sigxy = e*x+f*y\n"
   ]
  },
  {
   "cell_type": "code",
   "execution_count": 66,
   "metadata": {},
   "outputs": [
    {
     "data": {
      "text/latex": [
       "$\\displaystyle \\left[\\begin{matrix}a x + b y & e x + f y & 0\\\\e x + f y & c x + d y & 0\\\\0 & 0 & \\sigma_{zz}\\end{matrix}\\right]$"
      ],
      "text/plain": [
       "⎡a⋅x + b⋅y  e⋅x + f⋅y   0  ⎤\n",
       "⎢                          ⎥\n",
       "⎢e⋅x + f⋅y  c⋅x + d⋅y   0  ⎥\n",
       "⎢                          ⎥\n",
       "⎣    0          0      σ_zz⎦"
      ]
     },
     "execution_count": 66,
     "metadata": {},
     "output_type": "execute_result"
    }
   ],
   "source": [
    "Sigma = sp.Matrix([[sigxx,sigxy,0], [sigxy,sigyy,0], [0,0,sigzz]])\n",
    "Sigma"
   ]
  },
  {
   "cell_type": "markdown",
   "metadata": {},
   "source": [
    "## Ecriture des equations d'équilibre locale\n",
    "$$\n",
    " \\vec div(\\sigma) + \\vec \\phi= \\vec 0 \n",
    "$$"
   ]
  },
  {
   "cell_type": "code",
   "execution_count": 60,
   "metadata": {},
   "outputs": [
    {
     "data": {
      "text/latex": [
       "$\\displaystyle a + f + g \\rho_{1} = 0$"
      ],
      "text/plain": [
       "a + f + g⋅ρ₁ = 0"
      ]
     },
     "metadata": {},
     "output_type": "display_data"
    },
    {
     "data": {
      "text/latex": [
       "$\\displaystyle d + e = 0$"
      ],
      "text/plain": [
       "d + e = 0"
      ]
     },
     "metadata": {},
     "output_type": "display_data"
    }
   ],
   "source": [
    "eq_locx = sigxx.diff(x)+sigxy.diff(y)+rho_1*g\n",
    "eq_locy = sigxy.diff(x)+sigyy.diff(y)\n",
    "display(sp.Eq(eq_locx,0))\n",
    "display(sp.Eq(eq_locy,0))"
   ]
  },
  {
   "cell_type": "code",
   "execution_count": null,
   "metadata": {},
   "outputs": [],
   "source": []
  }
 ],
 "metadata": {
  "kernelspec": {
   "display_name": "Python 3",
   "language": "python",
   "name": "python3"
  },
  "language_info": {
   "codemirror_mode": {
    "name": "ipython",
    "version": 3
   },
   "file_extension": ".py",
   "mimetype": "text/x-python",
   "name": "python",
   "nbconvert_exporter": "python",
   "pygments_lexer": "ipython3",
   "version": "3.8.3"
  }
 },
 "nbformat": 4,
 "nbformat_minor": 4
}
