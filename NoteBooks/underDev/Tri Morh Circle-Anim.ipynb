{
 "cells": [
  {
   "cell_type": "markdown",
   "metadata": {
    "toc": true
   },
   "source": [
    "<h1>Table of Contents<span class=\"tocSkip\"></span></h1>\n",
    "<div class=\"toc\"><ul class=\"toc-item\"><li><span><a href=\"#1---Definition-of-the-Stress-tensor\" data-toc-modified-id=\"1---Definition-of-the-Stress-tensor-1\"><span class=\"toc-item-num\">1&nbsp;&nbsp;</span>1 - Definition of the Stress tensor</a></span></li><li><span><a href=\"#2---For-a-single-normal-$\\vec{n}$\" data-toc-modified-id=\"2---For-a-single-normal-$\\vec{n}$-2\"><span class=\"toc-item-num\">2&nbsp;&nbsp;</span>2 - For a single normal $\\vec{n}$</a></span><ul class=\"toc-item\"><li><span><a href=\"#Definition-of-$\\vec{n}$-:\" data-toc-modified-id=\"Definition-of-$\\vec{n}$-:-2.1\"><span class=\"toc-item-num\">2.1&nbsp;&nbsp;</span>Definition of $\\vec{n}$ :</a></span></li><li><span><a href=\"#Computation-of-$\\sigma_{nn}$-and-$\\sigma_{nt}$\" data-toc-modified-id=\"Computation-of-$\\sigma_{nn}$-and-$\\sigma_{nt}$-2.2\"><span class=\"toc-item-num\">2.2&nbsp;&nbsp;</span>Computation of $\\sigma_{nn}$ and $\\sigma_{nt}$</a></span></li></ul></li><li><span><a href=\"#3---Test-random-orientations-of-the-normal-$\\vec{n}$\" data-toc-modified-id=\"3---Test-random-orientations-of-the-normal-$\\vec{n}$-3\"><span class=\"toc-item-num\">3&nbsp;&nbsp;</span>3 - Test random orientations of the normal $\\vec{n}$</a></span></li></ul></div>"
   ]
  },
  {
   "cell_type": "markdown",
   "metadata": {},
   "source": [
    "# Illusatration of the Morh Circles for genric stress state\n",
    "Author : Emile.roux@univ-smb.fr"
   ]
  },
  {
   "cell_type": "code",
   "execution_count": null,
   "metadata": {},
   "outputs": [],
   "source": [
    "%load_ext autoreload\n",
    "%autoreload 2"
   ]
  },
  {
   "cell_type": "code",
   "execution_count": null,
   "metadata": {},
   "outputs": [],
   "source": [
    "import matplotlib.pyplot as plt\n",
    "from mpl_toolkits.axes_grid.axislines import SubplotZero\n",
    "from matplotlib.transforms import BlendedGenericTransform\n",
    "import matplotlib.patches as patches\n",
    "import matplotlib as mpl\n",
    "import numpy as np\n",
    "from matplotlib import animation, rc\n",
    "from IPython.display import HTML\n",
    "%matplotlib nbagg"
   ]
  },
  {
   "cell_type": "markdown",
   "metadata": {},
   "source": [
    "# Function which projet $\\vec{\\phi}$ into the $(\\vec{n}, \\vec{t})$ space\n",
    "$$ \\newcommand{\\norme}[1]{\\left\\Vert #1\\right\\Vert} $$\n",
    "For a given stress state the stress flux is given by :\n",
    "$$ \\vec{\\phi_n} = \\sigma . \\vec{n} $$\n",
    "\n",
    "The normal stress component $\\sigma_{nn}$ is obtain by projetcion of $\\vec{\\phi_n}$ on the normal\n",
    "$$\\sigma_{nn} = \\vec{\\phi_n} . \\vec{n} $$\n",
    "\n",
    "Then the shear stress compoant is computed using the fact that $\\vec{\\phi_n} = \\sigma_{nn} \\vec{n} + \\sigma_{nt} \\vec{t}$\n",
    "$$\\sigma_{nt} = \\norme{\\vec{\\phi_n}  - \\sigma_{nn} \\vec{n}} $$\n"
   ]
  },
  {
   "cell_type": "code",
   "execution_count": null,
   "metadata": {},
   "outputs": [],
   "source": [
    "def Snn_Snt_decomposition (Sigma, n) :\n",
    "    # Check that norm of n is one\n",
    "    n=n/np.linalg.norm(n)\n",
    "    \n",
    "    # Flux stress vector\n",
    "    phi=np.dot(Sigma,n)\n",
    "    \n",
    "    # Normal stress component\n",
    "    Snn=np.dot(phi,n)\n",
    "    \n",
    "    # Shear stress component\n",
    "    Snt=phi - Snn*n\n",
    "    Snt=np.linalg.norm(Snt)  \n",
    "    \n",
    "    return Snn,Snt,phi"
   ]
  },
  {
   "cell_type": "markdown",
   "metadata": {},
   "source": [
    "# Setting for graph display"
   ]
  },
  {
   "cell_type": "code",
   "execution_count": null,
   "metadata": {},
   "outputs": [],
   "source": [
    "\n",
    "fig = plt.figure(1)\n",
    "Sig_max=500.0\n",
    "# Espace x,y\n",
    "# Espace Snn,Snt\n",
    "ax2 = SubplotZero(fig, 111)\n",
    "fig.add_subplot(ax2)\n",
    "#\n",
    "for direction in [\"xzero\", \"yzero\"]:\n",
    "    ax2.axis[direction].set_axisline_style(\"-|>\")\n",
    "    ax2.axis[direction].set_visible(True)\n",
    "#\n",
    "for direction in [\"left\", \"right\", \"bottom\", \"top\"]:\n",
    "    ax2.axis[direction].set_visible(False)\n",
    "\n",
    "ax2.set_aspect('equal')\n",
    "\n",
    "ax2.set_xlim(-Sig_max, Sig_max)\n",
    "ax2.set_ylim(-Sig_max, Sig_max)\n",
    "ax2.text(0., 1.05, '$\\sigma_{nt}$',size=20, transform=BlendedGenericTransform(ax2.transData, ax2.transAxes))\n",
    "ax2.text(1.05, -0.15, '$\\sigma_{nn}$',size=20, transform=BlendedGenericTransform(ax2.transAxes, ax2.transData))\n",
    "ax2.grid()\n",
    "mohr_circle, = ax2.plot([], [], '.r',label='Stress State', markersize=1)\n",
    "ax2.legend()\n",
    "\n",
    "\n",
    "\n"
   ]
  },
  {
   "cell_type": "code",
   "execution_count": null,
   "metadata": {},
   "outputs": [],
   "source": [
    "plt.close(fig)"
   ]
  },
  {
   "cell_type": "markdown",
   "metadata": {},
   "source": [
    "# Projection of the Stress state into the $(\\vec{n}, \\vec{t})$ space"
   ]
  },
  {
   "cell_type": "markdown",
   "metadata": {},
   "source": [
    "## 1 - Definition of the Stress tensor "
   ]
  },
  {
   "cell_type": "code",
   "execution_count": null,
   "metadata": {},
   "outputs": [],
   "source": [
    "# Norme componants\n",
    "S11=100\n",
    "S22=-50\n",
    "S33=20.\n",
    "#Shear Componants\n",
    "S12=50\n",
    "S13=-60\n",
    "S23=300\n"
   ]
  },
  {
   "cell_type": "code",
   "execution_count": null,
   "metadata": {},
   "outputs": [],
   "source": [
    "# fullfill the tensor\n",
    "Sigma=np.array([[S11,S12,S13],[S12,S22, S23 ],[S13,S23, S33]],float)\n",
    "print(\"Sigma=\", Sigma)"
   ]
  },
  {
   "cell_type": "markdown",
   "metadata": {},
   "source": [
    "## 2 - For a single normal $\\vec{n}$\n",
    "### Definition of $\\vec{n}$ :"
   ]
  },
  {
   "cell_type": "code",
   "execution_count": null,
   "metadata": {},
   "outputs": [],
   "source": [
    "n=np.array([1, 0,0])"
   ]
  },
  {
   "cell_type": "markdown",
   "metadata": {},
   "source": [
    "### Computation of $\\sigma_{nn}$ and $\\sigma_{nt}$"
   ]
  },
  {
   "cell_type": "code",
   "execution_count": null,
   "metadata": {},
   "outputs": [],
   "source": [
    "# call the previous difined function\n",
    "Snn,Snt,phi = Snn_Snt_decomposition (Sigma, n)\n",
    "\n",
    "# display on graph\n",
    "x,y=mohr_circle.get_data()\n",
    "mohr_circle.set_data(np.append(x,[Snn]), np.append(y,[Snt]))\n",
    "ax2.quiver(0, 0, Snn, Snt,width=10,scale=1,units='x',label=r'$\\phi_n$',color='b')\n",
    "fig\n"
   ]
  },
  {
   "cell_type": "code",
   "execution_count": null,
   "metadata": {},
   "outputs": [],
   "source": [
    "plt.close(fig)"
   ]
  },
  {
   "cell_type": "markdown",
   "metadata": {},
   "source": [
    "\n",
    "## 3 - Test random orientations of the normal $\\vec{n}$"
   ]
  },
  {
   "cell_type": "code",
   "execution_count": null,
   "metadata": {},
   "outputs": [],
   "source": [
    "# animation function.  This is called sequentially\n",
    "def animate(i):\n",
    "    for j in range(10):\n",
    "      n = np.random.rand(3)-.5\n",
    "      Snn,Snt,phi = Snn_Snt_decomposition (Sigma, n)\n",
    "      x,y = mohr_circle.get_data()\n",
    "      mohr_circle.set_data(np.append(x,[Snn, Snn]), np.append(y,[Snt, -Snt]))\n",
    "    return mohr_circle"
   ]
  },
  {
   "cell_type": "code",
   "execution_count": null,
   "metadata": {},
   "outputs": [],
   "source": [
    "anim = animation.FuncAnimation(fig, animate,\n",
    "                               frames=100, interval=100, blit=True,repeat=True)"
   ]
  },
  {
   "cell_type": "code",
   "execution_count": null,
   "metadata": {},
   "outputs": [],
   "source": [
    "HTML(anim.to_html5_video())"
   ]
  },
  {
   "cell_type": "markdown",
   "metadata": {},
   "source": [
    "# 4 - Eigen Stresses computation"
   ]
  },
  {
   "cell_type": "code",
   "execution_count": null,
   "metadata": {},
   "outputs": [],
   "source": [
    "VP=np.linalg.eigvals(Sigma)\n",
    "\n",
    "# display on graph\n",
    "ax2.plot(VP,[0, 0, 0],'og',label='Eigen Stresses')\n",
    "ax2.legend()\n",
    "fig"
   ]
  },
  {
   "cell_type": "markdown",
   "metadata": {},
   "source": [
    "# 5 - Plot the 3 mohr circles konwing the eigen stresses"
   ]
  },
  {
   "cell_type": "code",
   "execution_count": null,
   "metadata": {},
   "outputs": [],
   "source": [
    "# 1st\n",
    "Radius=(VP[1]-VP[0])/2.\n",
    "ax2.add_patch(\n",
    "    patches.Circle(\n",
    "        (VP[0]+Radius,0.),   # (x,y)\n",
    "        Radius,          # radius\n",
    "        linewidth=4,\n",
    "        fill=False,\n",
    "    )\n",
    ")\n",
    "# 2nd\n",
    "ax2.plot(VP,[0, 0, 0],'og')\n",
    "Radius=(VP[2]-VP[1])/2.\n",
    "ax2.add_patch(\n",
    "    patches.Circle(\n",
    "        (VP[1]+Radius,0.),   # (x,y)\n",
    "        Radius,          # radius\n",
    "        linewidth=4,\n",
    "        fill=False,\n",
    "    )\n",
    ")\n",
    "# 3rd\n",
    "ax2.plot(VP,[0, 0, 0],'og')\n",
    "Radius=(VP[2]-VP[0])/2.\n",
    "ax2.add_patch(\n",
    "    patches.Circle(\n",
    "        (VP[0]+Radius,0.),   # (x,y)\n",
    "        Radius,          # radius\n",
    "        linewidth=4,\n",
    "        fill=False,\n",
    "        label='Mohr Circles'\n",
    "    )\n",
    ")\n",
    "ax2.legend()\n",
    "fig"
   ]
  },
  {
   "cell_type": "code",
   "execution_count": null,
   "metadata": {},
   "outputs": [],
   "source": []
  }
 ],
 "metadata": {
  "kernelspec": {
   "display_name": "Python 3",
   "language": "python",
   "name": "python3"
  },
  "language_info": {
   "codemirror_mode": {
    "name": "ipython",
    "version": 3
   },
   "file_extension": ".py",
   "mimetype": "text/x-python",
   "name": "python",
   "nbconvert_exporter": "python",
   "pygments_lexer": "ipython3",
   "version": "3.8.3"
  },
  "toc": {
   "base_numbering": 1,
   "nav_menu": {},
   "number_sections": true,
   "sideBar": true,
   "skip_h1_title": true,
   "title_cell": "Table of Contents",
   "title_sidebar": "Contents",
   "toc_cell": true,
   "toc_position": {},
   "toc_section_display": true,
   "toc_window_display": false
  }
 },
 "nbformat": 4,
 "nbformat_minor": 2
}
