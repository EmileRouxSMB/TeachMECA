{
 "cells": [
  {
   "cell_type": "code",
   "execution_count": 2,
   "metadata": {},
   "outputs": [],
   "source": [
    "import numpy as np"
   ]
  },
  {
   "cell_type": "markdown",
   "metadata": {
    "slideshow": {
     "slide_type": "slide"
    }
   },
   "source": [
    "# Résolution Jauges de déformation\n",
    "E. Roux, USMB, Polytech Annecy-Chambery"
   ]
  },
  {
   "cell_type": "markdown",
   "metadata": {
    "slideshow": {
     "slide_type": "-"
    },
    "toc": true
   },
   "source": [
    "<h1>Table of Contents<span class=\"tocSkip\"></span></h1>\n",
    "<div class=\"toc\"><ul class=\"toc-item\"><li><span><a href=\"#Les-mesures-des-3-jauges\" data-toc-modified-id=\"Les-mesures-des-3-jauges-1\"><span class=\"toc-item-num\">1&nbsp;&nbsp;</span>Les mesures des 3 jauges</a></span></li><li><span><a href=\"#Les-postions-des-3-jauges\" data-toc-modified-id=\"Les-postions-des-3-jauges-2\"><span class=\"toc-item-num\">2&nbsp;&nbsp;</span>Les postions des 3 jauges</a></span></li><li><span><a href=\"#Matrice-de-rigidité-K\" data-toc-modified-id=\"Matrice-de-rigidité-K-3\"><span class=\"toc-item-num\">3&nbsp;&nbsp;</span>Matrice de rigidité K</a></span></li><li><span><a href=\"#Résolution-du-système\" data-toc-modified-id=\"Résolution-du-système-4\"><span class=\"toc-item-num\">4&nbsp;&nbsp;</span>Résolution du système</a></span></li></ul></div>"
   ]
  },
  {
   "cell_type": "markdown",
   "metadata": {
    "slideshow": {
     "slide_type": "slide"
    }
   },
   "source": [
    "## Les mesures des 3 jauges"
   ]
  },
  {
   "cell_type": "code",
   "execution_count": 34,
   "metadata": {},
   "outputs": [
    {
     "name": "stdout",
     "output_type": "stream",
     "text": [
      "[1.e-04 2.e-05 5.e-05]\n"
     ]
    }
   ],
   "source": [
    "ea = 100e-6\n",
    "eb = 20e-6\n",
    "ec = 50e-6\n",
    "M = np.array([ea, eb, ec])\n",
    "print(M)"
   ]
  },
  {
   "cell_type": "markdown",
   "metadata": {},
   "source": [
    "## Les postions des 3 jauges"
   ]
  },
  {
   "cell_type": "code",
   "execution_count": 47,
   "metadata": {},
   "outputs": [],
   "source": [
    "# Angle phi\n",
    "pa = np.deg2rad(0)\n",
    "pb = np.deg2rad(30)\n",
    "pc = np.deg2rad(60)"
   ]
  },
  {
   "cell_type": "markdown",
   "metadata": {
    "slideshow": {
     "slide_type": "slide"
    }
   },
   "source": [
    "## Matrice de rigidité K"
   ]
  },
  {
   "cell_type": "code",
   "execution_count": 48,
   "metadata": {},
   "outputs": [],
   "source": [
    "ca = np.cos(pa)\n",
    "sa = np.sin(pa)\n",
    "\n",
    "cb = np.cos(pb)\n",
    "sb = np.sin(pb)\n",
    "\n",
    "cc = np.cos(pc)\n",
    "sc = np.sin(pc)"
   ]
  },
  {
   "cell_type": "code",
   "execution_count": 49,
   "metadata": {
    "scrolled": true
   },
   "outputs": [
    {
     "name": "stdout",
     "output_type": "stream",
     "text": [
      "[[1.        0.        0.       ]\n",
      " [0.75      0.8660254 0.25     ]\n",
      " [0.25      0.8660254 0.75     ]]\n"
     ]
    }
   ],
   "source": [
    "K = np.array([[ca**2, 2*sa*ca, sa**2],\n",
    "             [cb**2, 2*sb*cb, sb**2],\n",
    "             [cc**2, 2*sc*cc, sc**2]])\n",
    "print(K)"
   ]
  },
  {
   "cell_type": "markdown",
   "metadata": {
    "slideshow": {
     "slide_type": "slide"
    }
   },
   "source": [
    "## Résolution du système\n",
    "$\\vec M = K \\vec D$\n",
    "\n",
    "$\\vec D = K^{-1} \\vec M$"
   ]
  },
  {
   "cell_type": "code",
   "execution_count": 50,
   "metadata": {},
   "outputs": [
    {
     "name": "stdout",
     "output_type": "stream",
     "text": [
      "[[ 1.          0.          0.        ]\n",
      " [-1.15470054  1.73205081 -0.57735027]\n",
      " [ 1.         -2.          2.        ]]\n"
     ]
    }
   ],
   "source": [
    "Kinv = np.linalg.inv(K)\n",
    "print(Kinv)"
   ]
  },
  {
   "cell_type": "code",
   "execution_count": 39,
   "metadata": {},
   "outputs": [
    {
     "data": {
      "text/plain": [
       "array([ 0.0001   , -0.0001097,  0.00016  ])"
      ]
     },
     "execution_count": 39,
     "metadata": {},
     "output_type": "execute_result"
    }
   ],
   "source": [
    "D = np.dot(Kinv,M)\n",
    "D"
   ]
  },
  {
   "cell_type": "code",
   "execution_count": 40,
   "metadata": {},
   "outputs": [
    {
     "name": "stdout",
     "output_type": "stream",
     "text": [
      "E11 = 100.000 µdef\n",
      "E12 = -109.697 µdef\n",
      "E22 = 160.000 µdef\n"
     ]
    }
   ],
   "source": [
    "print('E11 = {0:0.3f} µdef'.format(D[0]/1e-6))\n",
    "print('E12 = {0:0.3f} µdef'.format(D[1]/1e-6))\n",
    "print('E22 = {0:0.3f} µdef'.format(D[2]/1e-6))"
   ]
  },
  {
   "cell_type": "code",
   "execution_count": null,
   "metadata": {},
   "outputs": [],
   "source": []
  }
 ],
 "metadata": {
  "celltoolbar": "Diaporama",
  "kernelspec": {
   "display_name": "Python 3",
   "language": "python",
   "name": "python3"
  },
  "language_info": {
   "codemirror_mode": {
    "name": "ipython",
    "version": 3
   },
   "file_extension": ".py",
   "mimetype": "text/x-python",
   "name": "python",
   "nbconvert_exporter": "python",
   "pygments_lexer": "ipython3",
   "version": "3.8.3"
  },
  "toc": {
   "base_numbering": 1,
   "nav_menu": {},
   "number_sections": true,
   "sideBar": true,
   "skip_h1_title": true,
   "title_cell": "Table of Contents",
   "title_sidebar": "Contents",
   "toc_cell": true,
   "toc_position": {},
   "toc_section_display": true,
   "toc_window_display": false
  }
 },
 "nbformat": 4,
 "nbformat_minor": 4
}
