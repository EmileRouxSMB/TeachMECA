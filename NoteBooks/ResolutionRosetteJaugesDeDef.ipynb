{
 "cells": [
  {
   "cell_type": "code",
   "execution_count": 1,
   "metadata": {},
   "outputs": [],
   "source": [
    "import numpy as np"
   ]
  },
  {
   "cell_type": "markdown",
   "metadata": {},
   "source": [
    "# Résolution Jauges de déformation\n",
    "E. Roux, USMB, Polytech Annecy-Chambery"
   ]
  },
  {
   "cell_type": "markdown",
   "metadata": {},
   "source": [
    "## Les mesures des 3 jauges"
   ]
  },
  {
   "cell_type": "code",
   "execution_count": 2,
   "metadata": {},
   "outputs": [
    {
     "name": "stdout",
     "output_type": "stream",
     "text": [
      "[ 0.0005 -0.0002  0.0003]\n"
     ]
    }
   ],
   "source": [
    "ea = 500e-6\n",
    "eb = -200e-6\n",
    "ec = 300e-6\n",
    "M = np.array([ea, eb, ec])\n",
    "print(M)"
   ]
  },
  {
   "cell_type": "markdown",
   "metadata": {},
   "source": [
    "## Les postions des 3 jauges"
   ]
  },
  {
   "cell_type": "code",
   "execution_count": 3,
   "metadata": {},
   "outputs": [],
   "source": [
    "# Angle phi\n",
    "pa = 0.\n",
    "pb = np.deg2rad(120)\n",
    "pc = np.deg2rad(-120)"
   ]
  },
  {
   "cell_type": "markdown",
   "metadata": {},
   "source": [
    "## Matrice de rigidité K"
   ]
  },
  {
   "cell_type": "code",
   "execution_count": 4,
   "metadata": {},
   "outputs": [],
   "source": [
    "ca = np.cos(pa)\n",
    "sa = np.sin(pa)\n",
    "\n",
    "cb = np.cos(pb)\n",
    "sb = np.sin(pb)\n",
    "\n",
    "cc = np.cos(pc)\n",
    "sc = np.sin(pc)"
   ]
  },
  {
   "cell_type": "code",
   "execution_count": 5,
   "metadata": {
    "scrolled": true
   },
   "outputs": [
    {
     "name": "stdout",
     "output_type": "stream",
     "text": [
      "[[ 1.         0.         0.       ]\n",
      " [ 0.25      -0.8660254  0.75     ]\n",
      " [ 0.25       0.8660254  0.75     ]]\n"
     ]
    }
   ],
   "source": [
    "K = np.array([[ca**2, 2*sa*ca, sa**2],\n",
    "             [cb**2, 2*sb*cb, sb**2],\n",
    "             [cc**2, 2*sc*cc, sc**2]])\n",
    "print(K)"
   ]
  },
  {
   "cell_type": "markdown",
   "metadata": {},
   "source": [
    "## Résolution du système\n",
    "$\\vec M = K \\vec D$\n",
    "\n",
    "$\\vec D = K^{-1} \\vec M$"
   ]
  },
  {
   "cell_type": "code",
   "execution_count": 6,
   "metadata": {},
   "outputs": [
    {
     "name": "stdout",
     "output_type": "stream",
     "text": [
      "[[ 1.00000000e+00  0.00000000e+00  0.00000000e+00]\n",
      " [ 5.34156302e-18 -5.77350269e-01  5.77350269e-01]\n",
      " [-3.33333333e-01  6.66666667e-01  6.66666667e-01]]\n"
     ]
    }
   ],
   "source": [
    "Kinv = np.linalg.inv(K)\n",
    "print(Kinv)"
   ]
  },
  {
   "cell_type": "code",
   "execution_count": 7,
   "metadata": {},
   "outputs": [
    {
     "data": {
      "text/plain": [
       "array([ 5.00000000e-04,  2.88675135e-04, -1.00000000e-04])"
      ]
     },
     "execution_count": 7,
     "metadata": {},
     "output_type": "execute_result"
    }
   ],
   "source": [
    "D = np.dot(Kinv,M)\n",
    "D"
   ]
  },
  {
   "cell_type": "code",
   "execution_count": 8,
   "metadata": {},
   "outputs": [
    {
     "name": "stdout",
     "output_type": "stream",
     "text": [
      "E11 = 500.000 µdef\n",
      "E12 = 288.675 µdef\n",
      "E22 = -100.000 µdef\n"
     ]
    }
   ],
   "source": [
    "print('E11 = {0:0.3f} µdef'.format(D[0]/1e-6))\n",
    "print('E12 = {0:0.3f} µdef'.format(D[1]/1e-6))\n",
    "print('E22 = {0:0.3f} µdef'.format(D[2]/1e-6))"
   ]
  },
  {
   "cell_type": "code",
   "execution_count": null,
   "metadata": {},
   "outputs": [],
   "source": []
  },
  {
   "cell_type": "code",
   "execution_count": null,
   "metadata": {},
   "outputs": [],
   "source": []
  }
 ],
 "metadata": {
  "kernelspec": {
   "display_name": "Python 3",
   "language": "python",
   "name": "python3"
  },
  "language_info": {
   "codemirror_mode": {
    "name": "ipython",
    "version": 3
   },
   "file_extension": ".py",
   "mimetype": "text/x-python",
   "name": "python",
   "nbconvert_exporter": "python",
   "pygments_lexer": "ipython3",
   "version": "3.8.3"
  }
 },
 "nbformat": 4,
 "nbformat_minor": 4
}
