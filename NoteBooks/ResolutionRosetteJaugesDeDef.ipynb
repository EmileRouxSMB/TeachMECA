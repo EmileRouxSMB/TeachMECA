{
 "cells": [
  {
   "cell_type": "code",
   "execution_count": 1,
   "metadata": {},
   "outputs": [],
   "source": [
    "import numpy as np"
   ]
  },
  {
   "cell_type": "markdown",
   "metadata": {
    "slideshow": {
     "slide_type": "slide"
    }
   },
   "source": [
    "# Résolution Jauges de déformation\n",
    "E. Roux, USMB, Polytech Annecy-Chambery"
   ]
  },
  {
   "cell_type": "markdown",
   "metadata": {
    "slideshow": {
     "slide_type": "-"
    },
    "toc": true
   },
   "source": [
    "<h1>Table of Contents<span class=\"tocSkip\"></span></h1>\n",
    "<div class=\"toc\"><ul class=\"toc-item\"><li><span><a href=\"#Une-jauge-:-lien-entre-le-tenseur-de-défrmation-et-l'élongtion-mesurée\" data-toc-modified-id=\"Une-jauge-:-lien-entre-le-tenseur-de-défrmation-et-l'élongtion-mesurée-1\"><span class=\"toc-item-num\">1&nbsp;&nbsp;</span>Une jauge : lien entre le tenseur de défrmation et l'élongtion mesurée</a></span></li><li><span><a href=\"#Analyse-pour-3-jauges:\" data-toc-modified-id=\"Analyse-pour-3-jauges:-2\"><span class=\"toc-item-num\">2&nbsp;&nbsp;</span>Analyse pour 3 jauges:</a></span><ul class=\"toc-item\"><li><span><a href=\"#Résolution-analytique\" data-toc-modified-id=\"Résolution-analytique-2.1\"><span class=\"toc-item-num\">2.1&nbsp;&nbsp;</span>Résolution analytique</a></span></li><li><span><a href=\"#Aplication-numérique-:-cas-1\" data-toc-modified-id=\"Aplication-numérique-:-cas-1-2.2\"><span class=\"toc-item-num\">2.2&nbsp;&nbsp;</span>Aplication numérique : cas 1</a></span></li><li><span><a href=\"#Création-d'un-fonction-:\" data-toc-modified-id=\"Création-d'un-fonction-:-2.3\"><span class=\"toc-item-num\">2.3&nbsp;&nbsp;</span>Création d'un fonction :</a></span></li><li><span><a href=\"#Cas-2-et-Cas-3\" data-toc-modified-id=\"Cas-2-et-Cas-3-2.4\"><span class=\"toc-item-num\">2.4&nbsp;&nbsp;</span>Cas 2 et Cas 3</a></span></li></ul></li></ul></div>"
   ]
  },
  {
   "cell_type": "markdown",
   "metadata": {},
   "source": [
    "## Une jauge : lien entre le tenseur de défrmation et l'élongtion mesurée\n",
    "Les terme du tenseur des déformation $\\varepsilon_{11}$, $\\varepsilon_{22}$ et $\\varepsilon_{12}$ sont les inconnues du problème.\n",
    "\n",
    "On considège une jauge $J_i$.\n",
    "L'elongation mesurée $e_i$ de cette jauge est connue ainsi que sa posotion angulaire $\\phi_i$ parrapport à $\\vec{x_1}$. \n",
    "\n",
    "La normal  $\\vec{n_i}$ lié a cette jauge est donc:\n",
    "$$ \n",
    "\\vec{n_i} = \n",
    "\\begin{pmatrix}\n",
    "cos(\\phi_i)\\\\\n",
    "sin(\\phi_i)\\\\\n",
    "0\n",
    "\\end{pmatrix}\n",
    "$$\n",
    "\n",
    "Pour un état de défoamtion donnée le vecteur élongation s'exprime en fonction de la normal $\\vec{n_i}$ :\n",
    "$$ \\vec{L_n} = \\varepsilon . \\vec{n_i} $$\n",
    "\n",
    "L\"longation dans la direction $\\vec{n_i}$  est donc\n",
    "$$\n",
    "\\begin{align}\n",
    "e_i &= \\vec{L_n} . \\vec{n_i} \\\\\n",
    "&= (\\varepsilon . \\vec{n_i}) . \\vec{n_i}\n",
    "\\end{align}\n",
    "$$\n",
    "\n",
    "Après dévellopement on obtient :\n",
    "$$ e_i  = \\varepsilon_{11} cos^2(\\phi_i) + 2 \\varepsilon_{12} sin(\\phi_i)cos(\\phi_i)+  \\varepsilon_{22} sin^2(\\phi_i) $$"
   ]
  },
  {
   "cell_type": "markdown",
   "metadata": {},
   "source": [
    "## Analyse pour 3 jauges:\n",
    "### Résolution analytique\n",
    "On considère ici 3 jauges : $J_1$, $J_2$, $J_3$, délivrant chacune une mesure $e_1$, $e_2$, $e_3$.\n",
    "\n",
    "Leurs posotions angulaires sont notées $\\phi_1$, $\\phi_2$, $\\phi_3$ parrapport à $\\vec{x_1}$. \n",
    "\n",
    "D'apres la partie précédentes on obtien 3 equations : \n",
    "$$\n",
    "\\begin{align}\n",
    "e_1  & = \\varepsilon_{11} cos^2(\\phi_1) + 2 \\varepsilon_{12} sin(\\phi_1)cos(\\phi_1)+  \\varepsilon_{22} sin^2(\\phi_1)  \\\\\n",
    "e_2  & = \\varepsilon_{11} cos^2(\\phi_2) + 2 \\varepsilon_{12} sin(\\phi_2)cos(\\phi_2)+  \\varepsilon_{22} sin^2(\\phi_2)  \\\\\n",
    "e_3  & = \\varepsilon_{11} cos^2(\\phi_3) + 2 \\varepsilon_{12} sin(\\phi_3)cos(\\phi_3)+  \\varepsilon_{22} sin^2(\\phi_3) \n",
    "\\end{align}\n",
    "$$\n",
    "\n",
    "Ce sytème linaire peut ce récrire sous la forme suivante :\n",
    "$$ \n",
    "\\begin{pmatrix}\n",
    "e_1 \\\\\n",
    "e_2 \\\\\n",
    "e_3 \n",
    "\\end{pmatrix} \n",
    "=\n",
    "\\begin{bmatrix}\n",
    "cos^2(\\phi_1) & 2 sin(\\phi_1)cos(\\phi_1)&  sin^2(\\phi_1)  \\\\\n",
    "cos^2(\\phi_2) & 2 sin(\\phi_2)cos(\\phi_2)&  sin^2(\\phi_2)  \\\\\n",
    "cos^2(\\phi_3) & 2 sin(\\phi_3)cos(\\phi_3)&  sin^2(\\phi_3) \n",
    "\\end{bmatrix} \n",
    ".\n",
    "\\begin{pmatrix}\n",
    "\\varepsilon_{11} \\\\\n",
    "\\varepsilon_{12} \\\\\n",
    "\\varepsilon_{22}\n",
    "\\end{pmatrix} \n",
    "$$\n",
    "\n",
    "Pour la suite on note \n",
    "\n",
    "$$\n",
    "K=\n",
    "\\begin{bmatrix}\n",
    "cos^2(\\phi_1) & 2 sin(\\phi_1)cos(\\phi_1)&  sin^2(\\phi_1)  \\\\\n",
    "cos^2(\\phi_2) & 2 sin(\\phi_2)cos(\\phi_2)&  sin^2(\\phi_2)  \\\\\n",
    "cos^2(\\phi_3) & 2 sin(\\phi_3)cos(\\phi_3)&  sin^2(\\phi_3) \n",
    "\\end{bmatrix}\n",
    "$$\n",
    "\n",
    "$$\n",
    "\\vec M =\n",
    "\\begin{pmatrix}\n",
    "e_1 \\\\\n",
    "e_2 \\\\\n",
    "e_3 \n",
    "\\end{pmatrix} \n",
    "$$\n",
    "Aisni pour obtenir les inconnue ($\\varepsilon_{11}$, $\\varepsilon_{22}$ et $\\varepsilon_{12}$) on resoud ce système lianire:\n",
    "$$\n",
    "\\begin{pmatrix}\n",
    "\\varepsilon_{11} \\\\\n",
    "\\varepsilon_{12} \\\\\n",
    "\\varepsilon_{22}\n",
    "\\end{pmatrix} \n",
    "=\n",
    "K^{-1} . \\vec M\n",
    "$$"
   ]
  },
  {
   "cell_type": "markdown",
   "metadata": {
    "slideshow": {
     "slide_type": "slide"
    }
   },
   "source": [
    "### Aplication numérique : cas 1\n",
    " - les mesures :"
   ]
  },
  {
   "cell_type": "code",
   "execution_count": 2,
   "metadata": {},
   "outputs": [
    {
     "name": "stdout",
     "output_type": "stream",
     "text": [
      "M= [ 2.0e-04  3.0e-05 -1.5e-04]\n"
     ]
    }
   ],
   "source": [
    "ea = 200e-6\n",
    "eb = 30e-6\n",
    "ec = -150e-6\n",
    "M = np.array([ea, eb, ec])\n",
    "print(\"M=\", M)"
   ]
  },
  {
   "cell_type": "markdown",
   "metadata": {},
   "source": [
    "- les positions angualire des jauges"
   ]
  },
  {
   "cell_type": "code",
   "execution_count": 3,
   "metadata": {},
   "outputs": [],
   "source": [
    "# Angle phi\n",
    "pa = np.deg2rad(-45)\n",
    "pb = np.deg2rad(0)\n",
    "pc = np.deg2rad(45)"
   ]
  },
  {
   "cell_type": "markdown",
   "metadata": {
    "slideshow": {
     "slide_type": "slide"
    }
   },
   "source": [
    "- Construction de la matrice $K$"
   ]
  },
  {
   "cell_type": "code",
   "execution_count": 4,
   "metadata": {},
   "outputs": [
    {
     "name": "stdout",
     "output_type": "stream",
     "text": [
      "K= [[ 0.5 -1.   0.5]\n",
      " [ 1.   0.   0. ]\n",
      " [ 0.5  1.   0.5]]\n"
     ]
    }
   ],
   "source": [
    "ca = np.cos(pa)\n",
    "sa = np.sin(pa)\n",
    "\n",
    "cb = np.cos(pb)\n",
    "sb = np.sin(pb)\n",
    "\n",
    "cc = np.cos(pc)\n",
    "sc = np.sin(pc)\n",
    "K = np.array([[ca**2, 2*sa*ca, sa**2],\n",
    "             [cb**2, 2*sb*cb, sb**2],\n",
    "             [cc**2, 2*sc*cc, sc**2]])\n",
    "print(\"K=\",K)"
   ]
  },
  {
   "cell_type": "markdown",
   "metadata": {
    "slideshow": {
     "slide_type": "slide"
    }
   },
   "source": [
    "- resolution du système linaire"
   ]
  },
  {
   "cell_type": "code",
   "execution_count": 5,
   "metadata": {},
   "outputs": [
    {
     "name": "stdout",
     "output_type": "stream",
     "text": [
      "E11 = 30.000 µdef\n",
      "E12 = -175.000 µdef\n",
      "E22 = 20.000 µdef\n"
     ]
    }
   ],
   "source": [
    "Kinv = np.linalg.inv(K)\n",
    "D = np.dot(Kinv,M)\n",
    "print('E11 = {0:0.3f} µdef'.format(D[0]/1e-6))\n",
    "print('E12 = {0:0.3f} µdef'.format(D[1]/1e-6))\n",
    "print('E22 = {0:0.3f} µdef'.format(D[2]/1e-6))"
   ]
  },
  {
   "cell_type": "markdown",
   "metadata": {},
   "source": [
    "### Création d'un fonction :"
   ]
  },
  {
   "cell_type": "code",
   "execution_count": 6,
   "metadata": {},
   "outputs": [],
   "source": [
    "def analyse_rostte(phia,phib,phic, ea, eb, ec ):\n",
    "    \"\"\"\n",
    "    Input :\n",
    "    les angle phi sont donnée en degré\n",
    "    les mesures d'élongation e\n",
    "    \"\"\"\n",
    "    M = np.array([ea, eb, ec])\n",
    "    \n",
    "    pa = np.deg2rad(phia)\n",
    "    pb = np.deg2rad(phib)\n",
    "    pc = np.deg2rad(phic)\n",
    "    \n",
    "    ca = np.cos(pa)\n",
    "    sa = np.sin(pa)\n",
    "\n",
    "    cb = np.cos(pb)\n",
    "    sb = np.sin(pb)\n",
    "\n",
    "    cc = np.cos(pc)\n",
    "    sc = np.sin(pc)\n",
    "    K = np.array([[ca**2, 2*sa*ca, sa**2],\n",
    "                 [cb**2, 2*sb*cb, sb**2],\n",
    "                 [cc**2, 2*sc*cc, sc**2]])\n",
    "    \n",
    "    Kinv = np.linalg.inv(K)\n",
    "    D = np.dot(Kinv,M)\n",
    "    print('E11 = {0:0.3f} µdef'.format(D[0]/1e-6))\n",
    "    print('E12 = {0:0.3f} µdef'.format(D[1]/1e-6))\n",
    "    print('E22 = {0:0.3f} µdef'.format(D[2]/1e-6))"
   ]
  },
  {
   "cell_type": "markdown",
   "metadata": {},
   "source": [
    "### Cas 2 et Cas 3\n",
    "- cas 2"
   ]
  },
  {
   "cell_type": "code",
   "execution_count": 7,
   "metadata": {},
   "outputs": [
    {
     "name": "stdout",
     "output_type": "stream",
     "text": [
      "E11 = 300.000 µdef\n",
      "E12 = 0.000 µdef\n",
      "E22 = -100.000 µdef\n"
     ]
    }
   ],
   "source": [
    "ea = 100e-6\n",
    "eb = 300e-6\n",
    "ec = 100e-6\n",
    "phia = -45\n",
    "phib = 0\n",
    "phic = 45\n",
    "analyse_rostte(phia,phib,phic, ea, eb, ec )"
   ]
  },
  {
   "cell_type": "markdown",
   "metadata": {},
   "source": [
    "- cas 3"
   ]
  },
  {
   "cell_type": "code",
   "execution_count": 8,
   "metadata": {},
   "outputs": [
    {
     "name": "stdout",
     "output_type": "stream",
     "text": [
      "E11 = 500.000 µdef\n",
      "E12 = -692.820 µdef\n",
      "E22 = 100.000 µdef\n"
     ]
    }
   ],
   "source": [
    "ea = 500e-6\n",
    "eb = -400e-6\n",
    "ec = 800e-6\n",
    "phia = 0\n",
    "phib = 60\n",
    "phic = 120\n",
    "analyse_rostte(phia,phib,phic, ea, eb, ec )"
   ]
  },
  {
   "cell_type": "code",
   "execution_count": null,
   "metadata": {},
   "outputs": [],
   "source": []
  }
 ],
 "metadata": {
  "celltoolbar": "Diaporama",
  "kernelspec": {
   "display_name": "Python 3",
   "language": "python",
   "name": "python3"
  },
  "language_info": {
   "codemirror_mode": {
    "name": "ipython",
    "version": 3
   },
   "file_extension": ".py",
   "mimetype": "text/x-python",
   "name": "python",
   "nbconvert_exporter": "python",
   "pygments_lexer": "ipython3",
   "version": "3.8.3"
  },
  "toc": {
   "base_numbering": 1,
   "nav_menu": {},
   "number_sections": true,
   "sideBar": true,
   "skip_h1_title": true,
   "title_cell": "Table of Contents",
   "title_sidebar": "Contents",
   "toc_cell": true,
   "toc_position": {},
   "toc_section_display": true,
   "toc_window_display": false
  }
 },
 "nbformat": 4,
 "nbformat_minor": 4
}
